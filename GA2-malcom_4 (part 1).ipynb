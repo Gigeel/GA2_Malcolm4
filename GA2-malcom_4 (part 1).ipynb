{
 "cells": [
  {
   "cell_type": "markdown",
   "metadata": {},
   "source": [
    "# Graded Assignment 2 - Air Quality and Weather in the Netherlands"
   ]
  },
  {
   "cell_type": "markdown",
   "metadata": {},
   "source": [
    "\n",
    "# Introduction to This Template Notebook\n",
    "\n",
    "* This is a **group** notebook.\n",
    "* Make sure you work in a **copy** of `...-template.ipynb`,\n",
    "**renamed** to `...-yourIDnrs.ipynb`,\n",
    "where `yourIDnrs` is the TU/e identification numbers of the members of the group.\n",
    "\n",
    "<div class=\"alert alert-danger\" role=\"danger\">\n",
    "<h3>Integrity</h3>\n",
    "<ul>\n",
    "    <li>In this course you must act according to the rules of the TU/e code of scientific conduct.</li>\n",
    "    <li>This exercise or graded assignment is to be executed by the members of the group independently from other people.</li>\n",
    "    <li>You must not copy from the Internet, your friends, books... If you represent other people's work as your own, then that constitutes fraud and will be reported to the Examination Committee.</li>\n",
    "    <li>Making your work available to others (complicity) also constitutes fraud.</li>\n",
    "</ul>\n",
    "</div>\n",
    "\n",
    "You are expected to work with Python code and Markdown in this notebook.\n",
    "\n",
    "Proceed in this notebook as follows:\n",
    "* **Read** the assignment (separate PDF).\n",
    "* **Write** your decisions/solutions/interpretations in the appropriate sections.\n",
    "  * For this you can use both Code and Markdown cells. Information about how to use these cells is available in the _Getting Started_ assignment.\n",
    "* **Run** _all_ code cells (also the ones _without_ your code),\n",
    "    _in linear order_ from the first code cell.\n",
    "\n",
    "**Personalize your notebook**:\n",
    "1. Copy the following line of code:\n",
    "\n",
    "  ```python\n",
    "  AUTHOR_ID_NRS = ['1234567', '2234567', '3234567', '4234567']\n",
    "  ```\n",
    "1. Paste them between the marker lines in the next code cell.\n",
    "1. Fill in the _identification numbers_ of all members of the group as a list of strings between the `Author` markers.\n",
    "1. Run the code cell by putting the cursor there and typing **Control-Enter**.\n"
   ]
  },
  {
   "cell_type": "code",
   "execution_count": 4,
   "metadata": {},
   "outputs": [],
   "source": [
    "#// BEGIN_TODO [Author] Name, Id.nr., Date, as strings (1 point)\n",
    "\n",
    "AUTHOR_ID_NRS = ['2027453', '1989596', '2007630', '2056313']\n",
    "\n",
    "#// END_TODO [Author]"
   ]
  },
  {
   "cell_type": "markdown",
   "metadata": {},
   "source": [
    "## Table of Contents\n",
    "\n",
    "- [Preparation](#Preparation)\n",
    "    - [Load the libraries](#Load-the-libraries)\n",
    "- [Part 1a. Hypothesis selection](#Part-1a:-Hypothesis-selection)\n",
    "- [Part 1b. Hypothesis refinement](#Part-1b:-Hypothesis-refinement)\n",
    "- [Part 2. Queries and data cleaning](#Part-2:-Queries-and-data-cleaning)\n",
    "- [Part 3. Hypothesis testing and interpretation](#Part-3.-Hypothesis-testing-and-interpretation)\n",
    "- [Part 4. Pitching results](#Part-4.-Pitching-results)"
   ]
  },
  {
   "cell_type": "markdown",
   "metadata": {},
   "source": [
    "## Preparation\n",
    "### Load the libraries"
   ]
  },
  {
   "cell_type": "code",
   "execution_count": 5,
   "metadata": {},
   "outputs": [
    {
     "ename": "ModuleNotFoundError",
     "evalue": "No module named 'treeviz'",
     "output_type": "error",
     "traceback": [
      "\u001b[1;31m---------------------------------------------------------------------------\u001b[0m",
      "\u001b[1;31mModuleNotFoundError\u001b[0m                       Traceback (most recent call last)",
      "Cell \u001b[1;32mIn[5], line 9\u001b[0m\n\u001b[0;32m      7\u001b[0m \u001b[38;5;28;01mfrom\u001b[39;00m \u001b[38;5;21;01msklearn\u001b[39;00m\u001b[38;5;21;01m.\u001b[39;00m\u001b[38;5;21;01mmetrics\u001b[39;00m \u001b[38;5;28;01mimport\u001b[39;00m mean_absolute_error, confusion_matrix\n\u001b[0;32m      8\u001b[0m \u001b[38;5;28;01mfrom\u001b[39;00m \u001b[38;5;21;01msklearn\u001b[39;00m\u001b[38;5;21;01m.\u001b[39;00m\u001b[38;5;21;01mmodel_selection\u001b[39;00m \u001b[38;5;28;01mimport\u001b[39;00m train_test_split\n\u001b[1;32m----> 9\u001b[0m \u001b[38;5;28;01mfrom\u001b[39;00m \u001b[38;5;21;01mtreeviz\u001b[39;00m \u001b[38;5;28;01mimport\u001b[39;00m tree_print                            \u001b[38;5;66;03m# to print decision tree (gives an error for now)\u001b[39;00m\n\u001b[0;32m     11\u001b[0m \u001b[38;5;28;01mimport\u001b[39;00m \u001b[38;5;21;01mscipy\u001b[39;00m\u001b[38;5;21;01m.\u001b[39;00m\u001b[38;5;21;01mstats\u001b[39;00m \u001b[38;5;28;01mas\u001b[39;00m \u001b[38;5;21;01mstats\u001b[39;00m                               \u001b[38;5;66;03m# to compute z-scores\u001b[39;00m\n\u001b[0;32m     12\u001b[0m \u001b[38;5;28;01mfrom\u001b[39;00m \u001b[38;5;21;01mscipy\u001b[39;00m\u001b[38;5;21;01m.\u001b[39;00m\u001b[38;5;21;01minterpolate\u001b[39;00m \u001b[38;5;28;01mimport\u001b[39;00m interp1d\n",
      "\u001b[1;31mModuleNotFoundError\u001b[0m: No module named 'treeviz'"
     ]
    }
   ],
   "source": [
    "import numpy as np\n",
    "import pandas as pd\n",
    "\n",
    "from sklearn.linear_model import LinearRegression         # for linear regression\n",
    "from sklearn.cluster import KMeans                        # for clustering\n",
    "from sklearn.tree import DecisionTreeClassifier           # for decision tree mining\n",
    "from sklearn.metrics import mean_absolute_error, confusion_matrix\n",
    "from sklearn.model_selection import train_test_split\n",
    "from treeviz import tree_print                            # to print decision tree (gives an error for now)\n",
    "\n",
    "import scipy.stats as stats                               # to compute z-scores\n",
    "from scipy.interpolate import interp1d\n",
    "from scipy.ndimage import gaussian_filter1d\n",
    "import sqlite3                                            # to interact with the database\n",
    "import statsmodels.api as sm\n",
    "from statsmodels.distributions.empirical_distribution import ECDF\n",
    "\n",
    "%matplotlib inline                                 \n",
    "import matplotlib as mpl\n",
    "import matplotlib.pyplot as plt\n",
    "\n",
    "import seaborn as sns                                     # also improves the look of plots\n",
    "sns.set()\n",
    "plt.rcParams['figure.figsize'] = 10, 5                    # default hor./vert. size of plots, in inches\n",
    "plt.rcParams['lines.markeredgewidth'] = 1                 # to fix issue with seaborn box plots; needed after import seaborn"
   ]
  },
  {
   "cell_type": "markdown",
   "metadata": {
    "tags": []
   },
   "source": [
    "## Part 1a: Hypothesis selection"
   ]
  },
  {
   "cell_type": "markdown",
   "metadata": {},
   "source": [
    "Our research question is as follows: What is the influence of the seasons on the air quality?\n",
    "For this question we have made the following hypothesis:\n",
    "    1. The concenctration of NOx is directly proportional to the wind speed.\n",
    "    2.The effect on PM10 and pm2.5. A higher wind speed decreases the concentration of these particles.\n",
    "    3. The concentration of NO decreases with the increase of temperature  \n",
    "\n",
    "For each of these hypothesis we have a reason why we think it is worth to investigate the topic. They are as follows:\n",
    "    1. NOx or nitrogen oxides can react to form smog or acid rain, which both are bad for the local enviroment and to the health of humans.\n",
    "    2. PM particles, either PM_10 or PM_2.5 are so small they can damage the tissue in the lungs and cause lung inflammation.\n",
    "    3. Temperature can have an influence on the pollution of nitrogen monoxide as low temperatures can lead to a layer of warm air forming above the ground trapping cold air and pollutants (including nitrogen monoxide) close to the ground.\n",
    "Al these reasons were interesting to us since they all effect the health and reduce the air quality.\n"
   ]
  },
  {
   "cell_type": "markdown",
   "metadata": {},
   "source": [
    "## Part 1b: Hypothesis refinement"
   ]
  },
  {
   "cell_type": "markdown",
   "metadata": {},
   "source": [
    "The *concentration of NOx* decreases with *high wind speeds*.\n",
    "\n",
    "1.\n",
    "*concentration of NOx*\n",
    "    \n",
    "    what nitrogen oxides are included in the concentration of NOx( which ones will we measure)?\n",
    "\n",
    "    how will we measure NOx?\n",
    "        -what do we consider high/low?\n",
    "        -what time periods will we choose?\n",
    "    \n",
    "    should we measure the different oxides differently/separately?\n",
    "    \n",
    "*high wind speeds*\n",
    "   \n",
    "    what do we consider high wind speeds?\n",
    "\n",
    "    what do we consider low wind speeds?\n",
    "    \n",
    "    are there variations in wind speed we should consider?\n",
    "    \n",
    "    how will we treat extreme wind events?\n",
    "       \n",
    "    \n",
    "confunding variables\n",
    "   \n",
    "    what other factors might affect NOx concentration?\n",
    "        -temperature,humidity...?\n",
    "        -are there any local stations, traffic... that might increase these values?\n",
    "    \n",
    "    \n",
    "\n",
    "\n",
    "2. \n",
    "*concentration of NOx*\n",
    "    The concentration of NOx is the dependent variable and refers to the concentration of Nitrogen Oxides (NOx) in 𝜇g/m^3\n",
    "    we will measure NO_2 and NO\n",
    "    These will be measured separately as they each might have a different effect on the air quality.\n",
    "    we will consider high concentrations anything over the 90th percentile, and low anything below the 10th percentile. \n",
    "    'normal'concentrations will be considered as those in the IQR.\n",
    "\n",
    "*high wind speeds*\n",
    "    Wind speed, on the other hand, is this project's independent variable and it is defined the following way.The mean wind \n",
    "    speed in metres per second (m/s) 10 minutes before each measurement is taken.\n",
    "        Wind speeds between 0 and 5 m/s are considered low wind speeds, while those between 5 and 15 m/s are considered medium \n",
    "        and those above 15 m/s are considered high wind speeds.    \n",
    "    extreme wind events will be isolated and examined separately. \n",
    "        \n",
    "        \n",
    "cofunding variables\n",
    "    Additionally, temperature is going to be considered as a confounding variable as it has a positive correlation with the \n",
    "    concentration of NOx.(_should we only measure above/below certain values? how do we mitigate this?_)\n",
    "    another thing that we must consider is the traffic and industries close to the stations as higer traffic causes more no2 to \n",
    "    be produced. therefore we will only look at street stations as more NOx is produced there.\n",
    "\n",
    "\n",
    "\n",
    "\n",
    "3.\n",
    "Finally, in order to conduct the assignment data collected from three stations, Maastricht, Groningen and Rotterdam is going to be used. Furthermore, data from three other stations surrounding each one of the previous stations is going to be used to avoid possible biases or mistakes that might have happened at a particular weather station.(specify which stations, give names and reason behind) \n",
    "\n",
    "\n",
    "\n",
    "\n",
    "4.\n",
    "• what data (including in which format) you need\n",
    "\n",
    "    data of daily mean NOx concentrations data and daily mean wind speed will be used in order to compare how it changes each season. then we will go deeper and asses the daily windspeeds and NOx concentrations of one of the seasons/months in order to compare how they affect each other. This means data will be separated into type of station, season, month, and day.  \n",
    "\n",
    "• where you will get this data from\n",
    "\n",
    "    data will be obtained from the following stations, the stations will be limited to street stationsas traffic levels \n",
    "    influence the amount of NOx produced.(specify which stations, give names) \n",
    "\n",
    "• which technologies you intend to use\n",
    "    .......\n",
    "\n",
    "\n",
    "\n",
    "\n",
    "\n",
    "\n",
    "The original hypothesis was “The concentration of NOx decreases with high wind speeds.”\n",
    "We have refined it as follows:\n",
    "    air quality\n",
    "        during 2021(or a certain amount of years, decide as group)- to make the population more homogenuos, eliminating cofunding variables such as covid year.\n",
    "\n",
    "        from urban areas with traffic and industrial activities- as we are only using data from street stations \n",
    "\n",
    "        considering different stations across the netherlands- as we only have data available from the netherlands\n",
    "\n",
    "        shows that the concentration of different nitrogen oxides (such as NO_2 and NO)- to specify what oxides we will be assesing\n",
    "        \n",
    "        decrease with high wind speeds.- to have a comparison with another variable\n",
    "\n",
    "\n",
    "\n",
    "therefore, the refined hypothesis becomes:\n",
    "\"air quality data during 2021 (*choose year with best results, and add extra info above*) from urban areas with traffic and industrial activities, considering different stations across the netherlands, shows that the concentration of different nitrogen oxides (such as NO_2 and NO) decrease with high wind speeds.\"\n",
    "\n"
   ]
  },
  {
   "cell_type": "markdown",
   "metadata": {},
   "source": [
    "## Part 2: Queries and data cleaning"
   ]
  },
  {
   "cell_type": "markdown",
   "metadata": {},
   "source": [
    "In the following all the coordinations of the datapoints will be mentioned for easy use.\n",
    "\n",
    " - Main point maastricht: lat: 50.906000, lon: 5.762000\n",
    " - Main point rotterdam: lat: 51.962000, lon 4.447000\n",
    " - Main point Schiphol: lat: 52.318000, lon: 4.790000\n",
    "\n",
    "Smaller points close to maastricht:\n",
    "- maastricht a2 nassaulaan: lat: 50.845941 lon  5.714745\n",
    "- maastricht hoge fronten: lat: 50.852049  lon: 5.675796\n",
    "- Maastricht-A2 Kasteel Hillenraadweg  50.859810   5.713810 \n",
    "\n",
    "Smaller points close to rotterdam:\n",
    "- Hoek van Holland-Berghaven  51.977628   4.121226\n",
    "-  Rotterdam Zuid-Zwartewaalstraat  51.893617   4.487528\n",
    "- Vlaardingen-Riouwlaan  51.914883   4.329430\n",
    "\n",
    "Smaller points close to Schiphol:\n",
    "- Hoofddorp-Hoofdweg  52.327464   4.715008\n",
    "- Haarlem-Schipholweg  52.370508   4.642319  \n",
    "- Badhoevedorp-Sloterweg  52.334003   4.774006\n",
    "\n"
   ]
  },
  {
   "cell_type": "code",
   "execution_count": null,
   "metadata": {},
   "outputs": [],
   "source": [
    "# first assign the coordinates to different variables\n",
    "lat_maastricht = '50.906000'\n",
    "lon_maastricht = '5.762000'\n",
    "\n",
    "lat_rotterdam = '51.962000'\n",
    "lon_rotterdam = '4.447000'\n",
    "\n",
    "lat_schiphol = '52.318000'\n",
    "lon_schiphol = '4.790000'\n",
    "# first point of maastricht is called m1 etc and rotterdam r1 etc and schiphol s1 etc\n",
    "\n",
    "lat_m1 = '50.845941'\n",
    "lon_m1 = '5.714745'\n",
    "\n",
    "lat_m2 = '50.852049'\n",
    "lon_m2 = '5.675796'\n",
    "\n",
    "lat_m3 = '50.859810'\n",
    "lon_m3 = '5.713810'\n",
    "\n",
    "lat_r1 = '51.977628'\n",
    "lon_r1 = '4.121226' \n",
    "\n",
    "lat_r2 = '51.893617' \n",
    "lon_r2 = '4.487528'\n",
    "\n",
    "lat_r3 = '51.914883'\n",
    "lon_r3 = '4.329430' \n",
    "\n",
    "lat_s1 = '52.327464'\n",
    "lon_s1 = '4.715008'\n",
    "\n",
    "lat_s2 = '52.370508'\n",
    "lon_s2 = '4.642319'\n",
    "\n",
    "lat_s3 = '52.334003'\n",
    "lon_s3 = '4.774006'\n",
    "\n",
    "compound= 'no_x' #this assigns the particle we want to investigate to the variable compound\n",
    "weather_factor = 'wind_speed'"
   ]
  },
  {
   "cell_type": "code",
   "execution_count": null,
   "metadata": {},
   "outputs": [],
   "source": [
    "# need to connect to the correct database\n",
    "conn = sqlite3.connect('./datasets/aqw.db')"
   ]
  },
  {
   "cell_type": "code",
   "execution_count": null,
   "metadata": {},
   "outputs": [],
   "source": [
    "\n"
   ]
  },
  {
   "cell_type": "code",
   "execution_count": null,
   "metadata": {},
   "outputs": [],
   "source": [
    "# now that all the coordinates are assigned to variables it will be easier to make the query's per point\n",
    "# let's start with the three main points\n",
    "#MSTRCHT = maastricht\n",
    "QUERY_MSTRCHT1 = \"\"\"\n",
    "SELECT *\n",
    "FROM weather_stations\n",
    "WHERE latitude = '50.906000'  AND longitude = '5.762000'\n",
    "\n",
    "\"\"\"\n",
    "\n",
    "df_mstrcht1 = pd.read_sql_query(QUERY_MSTRCHT1, conn)\n",
    "df_mstrcht1\n",
    "# this code gives a code which we can use\n",
    "\n"
   ]
  },
  {
   "cell_type": "code",
   "execution_count": null,
   "metadata": {},
   "outputs": [],
   "source": [
    "QUERY_RTRDM1 = \"\"\"\n",
    "SELECT *\n",
    "FROM weather_stations\n",
    "WHERE latitude = '51.962000' AND longitude = '4.447000'\n",
    "\n",
    "\"\"\"\n",
    "df_rtrdm1 = pd.read_sql_query(QUERY_RTRDM1, conn)\n",
    "df_rtrdm1"
   ]
  },
  {
   "cell_type": "code",
   "execution_count": null,
   "metadata": {},
   "outputs": [],
   "source": [
    "QUERY_SCHIPHOL1 = \"\"\"\n",
    "SELECT *\n",
    "FROM weather_stations\n",
    "WHERE latitude = '52.318000' AND longitude = '4.790000'\n",
    "\n",
    "\"\"\"\n",
    "\n",
    "df_sch1 = pd.read_sql_query(QUERY_SCHIPHOL1, conn)\n",
    "df_sch1"
   ]
  },
  {
   "cell_type": "code",
   "execution_count": null,
   "metadata": {},
   "outputs": [],
   "source": [
    "# now that we have all the codes for the correct main points it will be neccesary to also do the same for the smaller points\n",
    "# However these points are in the database called air_quality_stations\n",
    "\n",
    "query_m1 = \"\"\"\n",
    "SELECT *\n",
    "FROM air_quality_stations\n",
    "WHERE latitude = '50.845941' AND longitude = '5.714745'\n",
    "\n",
    "\"\"\"\n",
    "df_m1 = pd.read_sql_query(query_m1, conn)\n",
    "df_m1\n",
    "# this gives the correct code for this station\n",
    "# the same will be done for all the other smaller stations"
   ]
  },
  {
   "cell_type": "code",
   "execution_count": null,
   "metadata": {},
   "outputs": [],
   "source": [
    "query_m2 = \"\"\"\n",
    "SELECT *\n",
    "FROM air_quality_stations\n",
    "WHERE latitude = '50.852049' AND longitude = '5.675796'\n",
    "\n",
    "\"\"\"\n",
    "df_m2 = pd.read_sql_query(query_m2, conn)\n",
    "df_m2"
   ]
  },
  {
   "cell_type": "code",
   "execution_count": null,
   "metadata": {},
   "outputs": [],
   "source": [
    "query_m3 = \"\"\"\n",
    "SELECT *\n",
    "FROM air_quality_stations\n",
    "WHERE latitude = '50.859810' AND longitude = '5.713810'\n",
    "\n",
    "\"\"\"\n",
    "df_m3 = pd.read_sql_query(query_m3, conn)\n",
    "df_m3"
   ]
  },
  {
   "cell_type": "code",
   "execution_count": null,
   "metadata": {},
   "outputs": [],
   "source": [
    "# now all the stations for main point rotterdam\n",
    "query_r1 = \"\"\"\n",
    "SELECT *\n",
    "FROM air_quality_stations\n",
    "WHERE latitude = '51.977628' AND longitude = '4.121226'\n",
    "\"\"\"\n",
    "df_r1 = pd.read_sql_query(query_r1, conn)\n",
    "df_r1"
   ]
  },
  {
   "cell_type": "code",
   "execution_count": null,
   "metadata": {},
   "outputs": [],
   "source": [
    "query_r2 = \"\"\"\n",
    "SELECT *\n",
    "FROM air_quality_stations\n",
    "WHERE latitude =  '51.893617'  AND longitude = '4.487528'\n",
    "\"\"\"\n",
    "df_r2 = pd.read_sql_query(query_r2, conn)\n",
    "df_r2"
   ]
  },
  {
   "cell_type": "code",
   "execution_count": null,
   "metadata": {},
   "outputs": [],
   "source": [
    "query_r3 = \"\"\"\n",
    "SELECT *\n",
    "FROM air_quality_stations\n",
    "WHERE latitude = '51.914883' AND longitude = '4.329430' \n",
    "\"\"\"\n",
    "df_r3 = pd.read_sql_query(query_r3, conn)\n",
    "df_r3"
   ]
  },
  {
   "cell_type": "code",
   "execution_count": null,
   "metadata": {},
   "outputs": [],
   "source": [
    "query_s1 = \"\"\"\n",
    "SELECT *\n",
    "FROM air_quality_stations\n",
    "WHERE latitude = '52.327464' AND longitude = '4.715008'\n",
    "\"\"\"\n",
    "df_s1 = pd.read_sql_query(query_s1, conn)\n",
    "df_s1"
   ]
  },
  {
   "cell_type": "code",
   "execution_count": null,
   "metadata": {},
   "outputs": [],
   "source": [
    "query_s2 = \"\"\"\n",
    "SELECT *\n",
    "FROM air_quality_stations\n",
    "WHERE latitude = '52.370508' AND longitude =  '4.642319'\n",
    "\"\"\"\n",
    "df_s2 = pd.read_sql_query(query_s2, conn)\n",
    "df_s2"
   ]
  },
  {
   "cell_type": "code",
   "execution_count": null,
   "metadata": {},
   "outputs": [],
   "source": [
    "query_s3 = \"\"\"\n",
    "SELECT * \n",
    "FROM air_quality_stations\n",
    "WHERE latitude = '52.334003' AND longitude = '4.774006'\n",
    "\"\"\"\n",
    "df_s3 = pd.read_sql_query(query_s3, conn)\n",
    "df_s3\n",
    "# now that we have all the codes for the stations we can start gathering the data from each of the stations and start plotting them"
   ]
  },
  {
   "cell_type": "code",
   "execution_count": null,
   "metadata": {},
   "outputs": [],
   "source": [
    "#first redifine the weather factors\n",
    "#this part is just figuring out how to get no_x in the dataset with the wind speed etc like they did in ga1 \n",
    "\n"
   ]
  },
  {
   "cell_type": "code",
   "execution_count": null,
   "metadata": {},
   "outputs": [],
   "source": [
    "# let's start with creating databases for the main points\n",
    "# then get a representation of the data for this point using a query\n",
    "# I've only selected the wind speed for now \n",
    "query_mstrcht_data = \"\"\"\n",
    "\n",
    "SELECT *\n",
    "FROM weather_data\n",
    "WHERE station_code = '380'\n",
    "\"\"\"\n",
    "\n",
    "df_mstrcht_data = pd.read_sql_query(query_mstrcht_data, conn)\n",
    "df_mstrcht_data"
   ]
  },
  {
   "cell_type": "code",
   "execution_count": null,
   "metadata": {},
   "outputs": [],
   "source": [
    "# dataset of rotterdam station\n",
    "# the weather factors don't have to be defined again since this proceeds on the previous code\n",
    "\n",
    "query_rtrdm_data = \"\"\"\n",
    "SELECT wind_speed\n",
    "FROM weather_data\n",
    "WHERE station_code = 344\n",
    "\"\"\"\n",
    "df_rtrdm_data = pd.read_sql_query(query_rtrdm_data, conn)\n",
    "df_rtrdm_data"
   ]
  },
  {
   "cell_type": "code",
   "execution_count": null,
   "metadata": {},
   "outputs": [],
   "source": [
    "query_schiphol_data = \"\"\"\n",
    "SELECT *\n",
    "FROM weather_data\n",
    "WHERE station_code = 240\n",
    "\"\"\"\n",
    "df_schiphol_data = pd.read_sql_query(query_schiphol_data, conn)\n",
    "df_schiphol_data\n"
   ]
  },
  {
   "cell_type": "code",
   "execution_count": null,
   "metadata": {},
   "outputs": [],
   "source": [
    "# try to merge these three dataframes togeter\n",
    "df_two = pd.merge(df_mstrcht_data, df_rtrdm_data, on='datetime' )\n",
    "df_two\n",
    "\n",
    "\n"
   ]
  },
  {
   "cell_type": "markdown",
   "metadata": {},
   "source": [
    "## Part 3. Hypothesis testing and interpretation"
   ]
  },
  {
   "cell_type": "code",
   "execution_count": null,
   "metadata": {},
   "outputs": [],
   "source": [
    "# Use this cell as you like, and add more cells as needed."
   ]
  },
  {
   "cell_type": "markdown",
   "metadata": {},
   "source": [
    "## Part 4. Polishing and pitching results"
   ]
  },
  {
   "cell_type": "code",
   "execution_count": null,
   "metadata": {},
   "outputs": [],
   "source": [
    "# This section is only for generating figures if you need it. You may leave it empty."
   ]
  },
  {
   "cell_type": "markdown",
   "metadata": {},
   "source": [
    "# Feedback\n",
    "\n",
    "Please fill in this questionaire to help us improve this course for the next year. Your feedback will be anonymized and will not affect your grade in any way!"
   ]
  },
  {
   "cell_type": "markdown",
   "metadata": {},
   "source": [
    "### How many hours did you spend on these exercises?\n",
    "\n",
    "Assign a number to `feedback_time`."
   ]
  },
  {
   "cell_type": "code",
   "execution_count": null,
   "metadata": {},
   "outputs": [],
   "source": [
    "#// BEGIN_FEEDBACK [Feedback_1] (0 point)\n",
    "\n",
    "#// END_FEEDBACK [Feedback_1] (0 point)\n",
    "\n",
    "import numbers\n",
    "\n",
    "assert isinstance(feedback_time, numbers.Number), \"Please assign a number to feedback_time\"\n",
    "print(feedback_time)"
   ]
  },
  {
   "cell_type": "markdown",
   "metadata": {},
   "source": [
    "### How difficult did you find these exercises?\n",
    "\n",
    "Assign an integer to `feedback_difficulty`, on a scale 0 - 10, with 0 being very easy, 5 being just right, and 10 being very difficult."
   ]
  },
  {
   "cell_type": "code",
   "execution_count": null,
   "metadata": {},
   "outputs": [],
   "source": [
    "#// BEGIN_FEEDBACK [Feedback_2] (0 point)\n",
    "\n",
    "#// END_FEEDBACK [Feedback_2] (0 point)\n",
    "\n",
    "import numbers\n",
    "\n",
    "assert isinstance(feedback_difficulty, numbers.Number), \"Please assign a number to feedback_difficulty\"\n",
    "print(feedback_difficulty)"
   ]
  },
  {
   "cell_type": "markdown",
   "metadata": {},
   "source": [
    "### (Optional) What did you like?\n",
    "\n",
    "Assign a string to `feedback_like`."
   ]
  },
  {
   "cell_type": "code",
   "execution_count": null,
   "metadata": {},
   "outputs": [],
   "source": [
    "#// BEGIN_FEEDBACK [Feedback_3] (0 point)\n",
    "\n",
    "#// END_FEEDBACK [Feedback_3] (0 point)"
   ]
  },
  {
   "cell_type": "markdown",
   "metadata": {},
   "source": [
    "### (Optional) What can be improved?\n",
    "\n",
    "Assign a string to `feedback_improve`. Please be specific, so that we can act on your feedback. For example, mention the specific exercises and what was unclear."
   ]
  },
  {
   "cell_type": "code",
   "execution_count": null,
   "metadata": {},
   "outputs": [],
   "source": [
    "#// BEGIN_FEEDBACK [Feedback_4] (0 point)\n",
    "\n",
    "#// END_FEEDBACK [Feedback_4] (0 point)"
   ]
  },
  {
   "cell_type": "markdown",
   "metadata": {},
   "source": [
    "\n",
    "\n",
    "\n",
    "## How to Submit Your Work\n",
    "\n",
    "1. **Before submitting**, you must run your notebook by doing **Kernel > Restart & Run All**.  \n",
    "   Make sure that your notebook runs without errors **in linear order**.\n",
    "1. Remember to rename the notebook as explained at the beginning of this notebook.\n",
    "1. Submit the executed notebook with your work\n",
    "   for the appropriate assignment in **Canvas**.\n",
    "1. In the **Momotor** tab in Canvas,\n",
    "  you can select that assignment again to find some feedback on your submitted work.\n",
    "  If there are any problems reported by _Momotor_,\n",
    "  then you need to fix those,\n",
    "  and **resubmit the fixed notebook**.\n",
    "\n",
    "In case of a high workload on our server\n",
    "(because many students submit close to the deadline),\n",
    "it may take longer to receive the feedback.\n",
    "\n",
    "\n"
   ]
  },
  {
   "cell_type": "markdown",
   "metadata": {},
   "source": [
    "---"
   ]
  },
  {
   "cell_type": "code",
   "execution_count": null,
   "metadata": {},
   "outputs": [],
   "source": [
    "# List all defined names\n",
    "%whos"
   ]
  },
  {
   "cell_type": "markdown",
   "metadata": {},
   "source": [
    "---\n",
    "\n",
    "# (End of Notebook) <span class=\"tocSkip\"></span>\n",
    "\n",
    "&copy; 2017-2023 - **TU/e** - Eindhoven University of Technology"
   ]
  }
 ],
 "metadata": {
  "anaconda-cloud": {},
  "hide_input": false,
  "kernelspec": {
   "display_name": "Python 3 (ipykernel)",
   "language": "python",
   "name": "python3"
  },
  "language_info": {
   "codemirror_mode": {
    "name": "ipython",
    "version": 3
   },
   "file_extension": ".py",
   "mimetype": "text/x-python",
   "name": "python",
   "nbconvert_exporter": "python",
   "pygments_lexer": "ipython3",
   "version": "3.10.9"
  },
  "toc": {
   "base_numbering": 1,
   "nav_menu": {
    "height": "264px",
    "width": "252px"
   },
   "number_sections": false,
   "sideBar": true,
   "skip_h1_title": false,
   "title_cell": "Table of Contents",
   "title_sidebar": "Contents",
   "toc_cell": true,
   "toc_position": {
    "height": "calc(100% - 180px)",
    "left": "10px",
    "top": "150px",
    "width": "234px"
   },
   "toc_section_display": "block",
   "toc_window_display": true
  },
  "vscode": {
   "interpreter": {
    "hash": "60e5673dee0b20898bfa4f3c497959fb0c8d0d39a7f6ea9d7f166a7012267d3f"
   }
  }
 },
 "nbformat": 4,
 "nbformat_minor": 4
}
